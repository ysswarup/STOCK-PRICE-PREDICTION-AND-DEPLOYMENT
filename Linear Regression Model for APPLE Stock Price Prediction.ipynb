{
 "cells": [
  {
   "cell_type": "markdown",
   "metadata": {},
   "source": [
    "# TECHNOCOLABS"
   ]
  },
  {
   "cell_type": "markdown",
   "metadata": {},
   "source": [
    "# Author - Y SANTHI SWARUP"
   ]
  },
  {
   "cell_type": "markdown",
   "metadata": {},
   "source": [
    "## Predicting Stock Prices for Large Cap Technology Companies DS II"
   ]
  },
  {
   "cell_type": "markdown",
   "metadata": {},
   "source": [
    "## Company Opted for Predicting the Stock Prices : APPLE"
   ]
  },
  {
   "cell_type": "markdown",
   "metadata": {},
   "source": [
    "______________________________________________________________________________________________________________________________"
   ]
  },
  {
   "cell_type": "markdown",
   "metadata": {},
   "source": [
    "# Model used for Predicting:Linear Regression"
   ]
  },
  {
   "cell_type": "markdown",
   "metadata": {},
   "source": [
    "### Import Libraries"
   ]
  },
  {
   "cell_type": "code",
   "execution_count": 1,
   "metadata": {},
   "outputs": [],
   "source": [
    "import numpy as np\n",
    "import pandas as pd\n",
    "import matplotlib.pyplot as plt\n",
    "import seaborn as sns\n",
    "%matplotlib inline\n",
    "import datetime\n",
    "\n",
    "import warnings\n",
    "warnings.filterwarnings('ignore')\n",
    "\n",
    "import nltk\n",
    "from nltk.classify import NaiveBayesClassifier\n",
    "from nltk.corpus import subjectivity\n",
    "from nltk.sentiment import SentimentAnalyzer\n",
    "from nltk.sentiment.util import *"
   ]
  },
  {
   "cell_type": "markdown",
   "metadata": {},
   "source": [
    "### Load the Data"
   ]
  },
  {
   "cell_type": "code",
   "execution_count": 2,
   "metadata": {},
   "outputs": [
    {
     "data": {
      "text/html": [
       "<div>\n",
       "<style scoped>\n",
       "    .dataframe tbody tr th:only-of-type {\n",
       "        vertical-align: middle;\n",
       "    }\n",
       "\n",
       "    .dataframe tbody tr th {\n",
       "        vertical-align: top;\n",
       "    }\n",
       "\n",
       "    .dataframe thead th {\n",
       "        text-align: right;\n",
       "    }\n",
       "</style>\n",
       "<table border=\"1\" class=\"dataframe\">\n",
       "  <thead>\n",
       "    <tr style=\"text-align: right;\">\n",
       "      <th></th>\n",
       "      <th>Date</th>\n",
       "      <th>Close</th>\n",
       "      <th>Volume</th>\n",
       "      <th>Open</th>\n",
       "      <th>High</th>\n",
       "      <th>Low</th>\n",
       "      <th>Headlines Title</th>\n",
       "    </tr>\n",
       "  </thead>\n",
       "  <tbody>\n",
       "    <tr>\n",
       "      <th>0</th>\n",
       "      <td>01-02-2015</td>\n",
       "      <td>$27.3325</td>\n",
       "      <td>212575080</td>\n",
       "      <td>$27.8475</td>\n",
       "      <td>$27.86</td>\n",
       "      <td>$26.8375</td>\n",
       "      <td>What to expect from Apple in 2015 beyond its s...</td>\n",
       "    </tr>\n",
       "    <tr>\n",
       "      <th>1</th>\n",
       "      <td>01-05-2015</td>\n",
       "      <td>$26.5625</td>\n",
       "      <td>256843520</td>\n",
       "      <td>$27.0725</td>\n",
       "      <td>$27.1625</td>\n",
       "      <td>$26.3525</td>\n",
       "      <td>SIM-free iPhone 6, 6 Plus reportedly debuting ...</td>\n",
       "    </tr>\n",
       "    <tr>\n",
       "      <th>2</th>\n",
       "      <td>01-06-2015</td>\n",
       "      <td>$26.565</td>\n",
       "      <td>262729000</td>\n",
       "      <td>$26.635</td>\n",
       "      <td>$26.8575</td>\n",
       "      <td>$26.1575</td>\n",
       "      <td>Technology Transforming Cars Into \"Phones On W...</td>\n",
       "    </tr>\n",
       "    <tr>\n",
       "      <th>3</th>\n",
       "      <td>01-07-2015</td>\n",
       "      <td>$26.9375</td>\n",
       "      <td>159933400</td>\n",
       "      <td>$26.8</td>\n",
       "      <td>$27.05</td>\n",
       "      <td>$26.6737</td>\n",
       "      <td>Apple issues fourth developer beta of OS X 10....</td>\n",
       "    </tr>\n",
       "    <tr>\n",
       "      <th>4</th>\n",
       "      <td>01-08-2015</td>\n",
       "      <td>$27.9725</td>\n",
       "      <td>236675040</td>\n",
       "      <td>$27.3075</td>\n",
       "      <td>$28.0375</td>\n",
       "      <td>$27.175</td>\n",
       "      <td>Apple company recalls 2014 shipments after lin...</td>\n",
       "    </tr>\n",
       "  </tbody>\n",
       "</table>\n",
       "</div>"
      ],
      "text/plain": [
       "         Date     Close     Volume      Open      High       Low  \\\n",
       "0  01-02-2015  $27.3325  212575080  $27.8475    $27.86  $26.8375   \n",
       "1  01-05-2015  $26.5625  256843520  $27.0725  $27.1625  $26.3525   \n",
       "2  01-06-2015   $26.565  262729000   $26.635  $26.8575  $26.1575   \n",
       "3  01-07-2015  $26.9375  159933400     $26.8    $27.05  $26.6737   \n",
       "4  01-08-2015  $27.9725  236675040  $27.3075  $28.0375   $27.175   \n",
       "\n",
       "                                     Headlines Title  \n",
       "0  What to expect from Apple in 2015 beyond its s...  \n",
       "1  SIM-free iPhone 6, 6 Plus reportedly debuting ...  \n",
       "2  Technology Transforming Cars Into \"Phones On W...  \n",
       "3  Apple issues fourth developer beta of OS X 10....  \n",
       "4  Apple company recalls 2014 shipments after lin...  "
      ]
     },
     "execution_count": 2,
     "metadata": {},
     "output_type": "execute_result"
    }
   ],
   "source": [
    "df = pd.read_csv('Price_News.csv')\n",
    "df.head()"
   ]
  },
  {
   "cell_type": "code",
   "execution_count": 3,
   "metadata": {},
   "outputs": [
    {
     "data": {
      "text/html": [
       "<div>\n",
       "<style scoped>\n",
       "    .dataframe tbody tr th:only-of-type {\n",
       "        vertical-align: middle;\n",
       "    }\n",
       "\n",
       "    .dataframe tbody tr th {\n",
       "        vertical-align: top;\n",
       "    }\n",
       "\n",
       "    .dataframe thead th {\n",
       "        text-align: right;\n",
       "    }\n",
       "</style>\n",
       "<table border=\"1\" class=\"dataframe\">\n",
       "  <thead>\n",
       "    <tr style=\"text-align: right;\">\n",
       "      <th></th>\n",
       "      <th>Date</th>\n",
       "      <th>Close</th>\n",
       "      <th>Volume</th>\n",
       "      <th>Open</th>\n",
       "      <th>High</th>\n",
       "      <th>Low</th>\n",
       "      <th>Headlines Title</th>\n",
       "    </tr>\n",
       "  </thead>\n",
       "  <tbody>\n",
       "    <tr>\n",
       "      <th>1615</th>\n",
       "      <td>06-03-2021</td>\n",
       "      <td>$123.54</td>\n",
       "      <td>76229170</td>\n",
       "      <td>$124.68</td>\n",
       "      <td>$124.85</td>\n",
       "      <td>$123.13</td>\n",
       "      <td>Buy RH Stock on the Dip Before Q1 Earnings for...</td>\n",
       "    </tr>\n",
       "    <tr>\n",
       "      <th>1616</th>\n",
       "      <td>06-04-2021</td>\n",
       "      <td>$125.89</td>\n",
       "      <td>75169340</td>\n",
       "      <td>$124.07</td>\n",
       "      <td>$126.16</td>\n",
       "      <td>$123.85</td>\n",
       "      <td>Global equities nearly grasp all-time record, ...</td>\n",
       "    </tr>\n",
       "    <tr>\n",
       "      <th>1617</th>\n",
       "      <td>06-07-2021</td>\n",
       "      <td>$125.9</td>\n",
       "      <td>71057550</td>\n",
       "      <td>$126.17</td>\n",
       "      <td>$126.32</td>\n",
       "      <td>$124.8321</td>\n",
       "      <td>Apple&amp;quot;s new &amp;quot;private relay&amp;quot; fea...</td>\n",
       "    </tr>\n",
       "    <tr>\n",
       "      <th>1618</th>\n",
       "      <td>06-08-2021</td>\n",
       "      <td>$126.74</td>\n",
       "      <td>74403770</td>\n",
       "      <td>$126.6</td>\n",
       "      <td>$128.46</td>\n",
       "      <td>$126.2101</td>\n",
       "      <td>Apple, Chinese manufacturers in talks on US ca...</td>\n",
       "    </tr>\n",
       "    <tr>\n",
       "      <th>1619</th>\n",
       "      <td>06-09-2021</td>\n",
       "      <td>$127.13</td>\n",
       "      <td>56877940</td>\n",
       "      <td>$127.21</td>\n",
       "      <td>$127.75</td>\n",
       "      <td>$126.52</td>\n",
       "      <td>athenahealth is set to support the iOS 15 Feat...</td>\n",
       "    </tr>\n",
       "  </tbody>\n",
       "</table>\n",
       "</div>"
      ],
      "text/plain": [
       "            Date    Close    Volume     Open     High        Low  \\\n",
       "1615  06-03-2021  $123.54  76229170  $124.68  $124.85    $123.13   \n",
       "1616  06-04-2021  $125.89  75169340  $124.07  $126.16    $123.85   \n",
       "1617  06-07-2021   $125.9  71057550  $126.17  $126.32  $124.8321   \n",
       "1618  06-08-2021  $126.74  74403770   $126.6  $128.46  $126.2101   \n",
       "1619  06-09-2021  $127.13  56877940  $127.21  $127.75    $126.52   \n",
       "\n",
       "                                        Headlines Title  \n",
       "1615  Buy RH Stock on the Dip Before Q1 Earnings for...  \n",
       "1616  Global equities nearly grasp all-time record, ...  \n",
       "1617  Apple&quot;s new &quot;private relay&quot; fea...  \n",
       "1618  Apple, Chinese manufacturers in talks on US ca...  \n",
       "1619  athenahealth is set to support the iOS 15 Feat...  "
      ]
     },
     "execution_count": 3,
     "metadata": {},
     "output_type": "execute_result"
    }
   ],
   "source": [
    "df.tail()"
   ]
  },
  {
   "cell_type": "code",
   "execution_count": 4,
   "metadata": {},
   "outputs": [
    {
     "data": {
      "text/plain": [
       "Date               0\n",
       "Close              0\n",
       "Volume             0\n",
       "Open               0\n",
       "High               0\n",
       "Low                0\n",
       "Headlines Title    0\n",
       "dtype: int64"
      ]
     },
     "execution_count": 4,
     "metadata": {},
     "output_type": "execute_result"
    }
   ],
   "source": [
    "df.isnull().sum()"
   ]
  },
  {
   "cell_type": "code",
   "execution_count": 5,
   "metadata": {},
   "outputs": [
    {
     "data": {
      "text/plain": [
       "0"
      ]
     },
     "execution_count": 5,
     "metadata": {},
     "output_type": "execute_result"
    }
   ],
   "source": [
    "sum(df.duplicated())"
   ]
  },
  {
   "cell_type": "code",
   "execution_count": 6,
   "metadata": {},
   "outputs": [
    {
     "data": {
      "text/plain": [
       "1620"
      ]
     },
     "execution_count": 6,
     "metadata": {},
     "output_type": "execute_result"
    }
   ],
   "source": [
    "len(df)"
   ]
  },
  {
   "cell_type": "code",
   "execution_count": 7,
   "metadata": {},
   "outputs": [
    {
     "name": "stdout",
     "output_type": "stream",
     "text": [
      "<class 'pandas.core.frame.DataFrame'>\n",
      "RangeIndex: 1620 entries, 0 to 1619\n",
      "Data columns (total 7 columns):\n",
      " #   Column           Non-Null Count  Dtype \n",
      "---  ------           --------------  ----- \n",
      " 0   Date             1620 non-null   object\n",
      " 1   Close            1620 non-null   object\n",
      " 2   Volume           1620 non-null   int64 \n",
      " 3   Open             1620 non-null   object\n",
      " 4   High             1620 non-null   object\n",
      " 5   Low              1620 non-null   object\n",
      " 6   Headlines Title  1620 non-null   object\n",
      "dtypes: int64(1), object(6)\n",
      "memory usage: 88.7+ KB\n"
     ]
    }
   ],
   "source": [
    "df.info()"
   ]
  },
  {
   "cell_type": "markdown",
   "metadata": {},
   "source": [
    "### Convert the Data"
   ]
  },
  {
   "cell_type": "code",
   "execution_count": 8,
   "metadata": {},
   "outputs": [],
   "source": [
    "df['Date'] = pd.to_datetime(df['Date'], errors='coerce')"
   ]
  },
  {
   "cell_type": "code",
   "execution_count": 9,
   "metadata": {},
   "outputs": [],
   "source": [
    "df[\"Date\"]= df[\"Date\"].dt.strftime(\"%d/%m/%y\")"
   ]
  },
  {
   "cell_type": "code",
   "execution_count": 10,
   "metadata": {},
   "outputs": [],
   "source": [
    "df['Close'] = df['Close'].str.replace('$', '')\n",
    "df['Close'] = df['Close'].astype('float')"
   ]
  },
  {
   "cell_type": "code",
   "execution_count": 11,
   "metadata": {},
   "outputs": [],
   "source": [
    "df['Open']=df['Open'].str.replace('$','').astype(float)"
   ]
  },
  {
   "cell_type": "code",
   "execution_count": 12,
   "metadata": {},
   "outputs": [],
   "source": [
    "df['High'] = df['High'].str.replace('$', '')\n",
    "df['High'] = df['High'].astype('float')"
   ]
  },
  {
   "cell_type": "code",
   "execution_count": 13,
   "metadata": {},
   "outputs": [],
   "source": [
    "df['Low'] = df['Low'].str.replace('$', '')\n",
    "df['Low'] = df['Low'].astype('float')"
   ]
  },
  {
   "cell_type": "code",
   "execution_count": 14,
   "metadata": {},
   "outputs": [],
   "source": [
    "df['Volume'] = df['Volume'].astype('float')"
   ]
  },
  {
   "cell_type": "code",
   "execution_count": 15,
   "metadata": {},
   "outputs": [
    {
     "data": {
      "text/plain": [
       "Date                object\n",
       "Close              float64\n",
       "Volume             float64\n",
       "Open               float64\n",
       "High               float64\n",
       "Low                float64\n",
       "Headlines Title     object\n",
       "dtype: object"
      ]
     },
     "execution_count": 15,
     "metadata": {},
     "output_type": "execute_result"
    }
   ],
   "source": [
    "df.dtypes"
   ]
  },
  {
   "cell_type": "markdown",
   "metadata": {},
   "source": [
    "### Preprocessing the Data"
   ]
  },
  {
   "cell_type": "markdown",
   "metadata": {},
   "source": [
    "#### Removing Punctuations"
   ]
  },
  {
   "cell_type": "code",
   "execution_count": 16,
   "metadata": {},
   "outputs": [
    {
     "data": {
      "text/html": [
       "<div>\n",
       "<style scoped>\n",
       "    .dataframe tbody tr th:only-of-type {\n",
       "        vertical-align: middle;\n",
       "    }\n",
       "\n",
       "    .dataframe tbody tr th {\n",
       "        vertical-align: top;\n",
       "    }\n",
       "\n",
       "    .dataframe thead th {\n",
       "        text-align: right;\n",
       "    }\n",
       "</style>\n",
       "<table border=\"1\" class=\"dataframe\">\n",
       "  <thead>\n",
       "    <tr style=\"text-align: right;\">\n",
       "      <th></th>\n",
       "      <th>Date</th>\n",
       "      <th>Close</th>\n",
       "      <th>Volume</th>\n",
       "      <th>Open</th>\n",
       "      <th>High</th>\n",
       "      <th>Low</th>\n",
       "      <th>Headlines Title</th>\n",
       "    </tr>\n",
       "  </thead>\n",
       "  <tbody>\n",
       "    <tr>\n",
       "      <th>0</th>\n",
       "      <td>02/01/15</td>\n",
       "      <td>27.3325</td>\n",
       "      <td>212575080.0</td>\n",
       "      <td>27.8475</td>\n",
       "      <td>27.8600</td>\n",
       "      <td>26.8375</td>\n",
       "      <td>What to expect from Apple in 2015 beyond its s...</td>\n",
       "    </tr>\n",
       "    <tr>\n",
       "      <th>1</th>\n",
       "      <td>05/01/15</td>\n",
       "      <td>26.5625</td>\n",
       "      <td>256843520.0</td>\n",
       "      <td>27.0725</td>\n",
       "      <td>27.1625</td>\n",
       "      <td>26.3525</td>\n",
       "      <td>SIM-free iPhone 6, 6 Plus reportedly debuting ...</td>\n",
       "    </tr>\n",
       "    <tr>\n",
       "      <th>2</th>\n",
       "      <td>06/01/15</td>\n",
       "      <td>26.5650</td>\n",
       "      <td>262729000.0</td>\n",
       "      <td>26.6350</td>\n",
       "      <td>26.8575</td>\n",
       "      <td>26.1575</td>\n",
       "      <td>Technology Transforming Cars Into \"Phones On W...</td>\n",
       "    </tr>\n",
       "    <tr>\n",
       "      <th>3</th>\n",
       "      <td>07/01/15</td>\n",
       "      <td>26.9375</td>\n",
       "      <td>159933400.0</td>\n",
       "      <td>26.8000</td>\n",
       "      <td>27.0500</td>\n",
       "      <td>26.6737</td>\n",
       "      <td>Apple issues fourth developer beta of OS X 10....</td>\n",
       "    </tr>\n",
       "    <tr>\n",
       "      <th>4</th>\n",
       "      <td>08/01/15</td>\n",
       "      <td>27.9725</td>\n",
       "      <td>236675040.0</td>\n",
       "      <td>27.3075</td>\n",
       "      <td>28.0375</td>\n",
       "      <td>27.1750</td>\n",
       "      <td>Apple company recalls 2014 shipments after lin...</td>\n",
       "    </tr>\n",
       "  </tbody>\n",
       "</table>\n",
       "</div>"
      ],
      "text/plain": [
       "       Date    Close       Volume     Open     High      Low  \\\n",
       "0  02/01/15  27.3325  212575080.0  27.8475  27.8600  26.8375   \n",
       "1  05/01/15  26.5625  256843520.0  27.0725  27.1625  26.3525   \n",
       "2  06/01/15  26.5650  262729000.0  26.6350  26.8575  26.1575   \n",
       "3  07/01/15  26.9375  159933400.0  26.8000  27.0500  26.6737   \n",
       "4  08/01/15  27.9725  236675040.0  27.3075  28.0375  27.1750   \n",
       "\n",
       "                                     Headlines Title  \n",
       "0  What to expect from Apple in 2015 beyond its s...  \n",
       "1  SIM-free iPhone 6, 6 Plus reportedly debuting ...  \n",
       "2  Technology Transforming Cars Into \"Phones On W...  \n",
       "3  Apple issues fourth developer beta of OS X 10....  \n",
       "4  Apple company recalls 2014 shipments after lin...  "
      ]
     },
     "execution_count": 16,
     "metadata": {},
     "output_type": "execute_result"
    }
   ],
   "source": [
    "df.head()"
   ]
  },
  {
   "cell_type": "code",
   "execution_count": 17,
   "metadata": {},
   "outputs": [
    {
     "data": {
      "text/html": [
       "<div>\n",
       "<style scoped>\n",
       "    .dataframe tbody tr th:only-of-type {\n",
       "        vertical-align: middle;\n",
       "    }\n",
       "\n",
       "    .dataframe tbody tr th {\n",
       "        vertical-align: top;\n",
       "    }\n",
       "\n",
       "    .dataframe thead th {\n",
       "        text-align: right;\n",
       "    }\n",
       "</style>\n",
       "<table border=\"1\" class=\"dataframe\">\n",
       "  <thead>\n",
       "    <tr style=\"text-align: right;\">\n",
       "      <th></th>\n",
       "      <th>Date</th>\n",
       "      <th>Close</th>\n",
       "      <th>Volume</th>\n",
       "      <th>Open</th>\n",
       "      <th>High</th>\n",
       "      <th>Low</th>\n",
       "      <th>Headlines Title</th>\n",
       "    </tr>\n",
       "  </thead>\n",
       "  <tbody>\n",
       "    <tr>\n",
       "      <th>0</th>\n",
       "      <td>02/01/15</td>\n",
       "      <td>27.3325</td>\n",
       "      <td>212575080.0</td>\n",
       "      <td>27.8475</td>\n",
       "      <td>27.8600</td>\n",
       "      <td>26.8375</td>\n",
       "      <td>What to expect from Apple in      beyond its s...</td>\n",
       "    </tr>\n",
       "    <tr>\n",
       "      <th>1</th>\n",
       "      <td>05/01/15</td>\n",
       "      <td>26.5625</td>\n",
       "      <td>256843520.0</td>\n",
       "      <td>27.0725</td>\n",
       "      <td>27.1625</td>\n",
       "      <td>26.3525</td>\n",
       "      <td>SIM free iPhone      Plus reportedly debuting ...</td>\n",
       "    </tr>\n",
       "    <tr>\n",
       "      <th>2</th>\n",
       "      <td>06/01/15</td>\n",
       "      <td>26.5650</td>\n",
       "      <td>262729000.0</td>\n",
       "      <td>26.6350</td>\n",
       "      <td>26.8575</td>\n",
       "      <td>26.1575</td>\n",
       "      <td>Technology Transforming Cars Into  Phones On W...</td>\n",
       "    </tr>\n",
       "    <tr>\n",
       "      <th>3</th>\n",
       "      <td>07/01/15</td>\n",
       "      <td>26.9375</td>\n",
       "      <td>159933400.0</td>\n",
       "      <td>26.8000</td>\n",
       "      <td>27.0500</td>\n",
       "      <td>26.6737</td>\n",
       "      <td>Apple issues fourth developer beta of OS X    ...</td>\n",
       "    </tr>\n",
       "    <tr>\n",
       "      <th>4</th>\n",
       "      <td>08/01/15</td>\n",
       "      <td>27.9725</td>\n",
       "      <td>236675040.0</td>\n",
       "      <td>27.3075</td>\n",
       "      <td>28.0375</td>\n",
       "      <td>27.1750</td>\n",
       "      <td>Apple company recalls      shipments after lin...</td>\n",
       "    </tr>\n",
       "  </tbody>\n",
       "</table>\n",
       "</div>"
      ],
      "text/plain": [
       "       Date    Close       Volume     Open     High      Low  \\\n",
       "0  02/01/15  27.3325  212575080.0  27.8475  27.8600  26.8375   \n",
       "1  05/01/15  26.5625  256843520.0  27.0725  27.1625  26.3525   \n",
       "2  06/01/15  26.5650  262729000.0  26.6350  26.8575  26.1575   \n",
       "3  07/01/15  26.9375  159933400.0  26.8000  27.0500  26.6737   \n",
       "4  08/01/15  27.9725  236675040.0  27.3075  28.0375  27.1750   \n",
       "\n",
       "                                     Headlines Title  \n",
       "0  What to expect from Apple in      beyond its s...  \n",
       "1  SIM free iPhone      Plus reportedly debuting ...  \n",
       "2  Technology Transforming Cars Into  Phones On W...  \n",
       "3  Apple issues fourth developer beta of OS X    ...  \n",
       "4  Apple company recalls      shipments after lin...  "
      ]
     },
     "execution_count": 17,
     "metadata": {},
     "output_type": "execute_result"
    }
   ],
   "source": [
    "df['Headlines Title'].replace(\"[^a-zA-Z]\",\" \",regex=True,inplace=True)\n",
    "df.head()"
   ]
  },
  {
   "cell_type": "markdown",
   "metadata": {},
   "source": [
    "#### Converting Headlines to lower case"
   ]
  },
  {
   "cell_type": "code",
   "execution_count": 18,
   "metadata": {
    "scrolled": true
   },
   "outputs": [
    {
     "data": {
      "text/html": [
       "<div>\n",
       "<style scoped>\n",
       "    .dataframe tbody tr th:only-of-type {\n",
       "        vertical-align: middle;\n",
       "    }\n",
       "\n",
       "    .dataframe tbody tr th {\n",
       "        vertical-align: top;\n",
       "    }\n",
       "\n",
       "    .dataframe thead th {\n",
       "        text-align: right;\n",
       "    }\n",
       "</style>\n",
       "<table border=\"1\" class=\"dataframe\">\n",
       "  <thead>\n",
       "    <tr style=\"text-align: right;\">\n",
       "      <th></th>\n",
       "      <th>Date</th>\n",
       "      <th>Close</th>\n",
       "      <th>Volume</th>\n",
       "      <th>Open</th>\n",
       "      <th>High</th>\n",
       "      <th>Low</th>\n",
       "      <th>Headlines Title</th>\n",
       "    </tr>\n",
       "  </thead>\n",
       "  <tbody>\n",
       "    <tr>\n",
       "      <th>0</th>\n",
       "      <td>02/01/15</td>\n",
       "      <td>27.3325</td>\n",
       "      <td>212575080.0</td>\n",
       "      <td>27.8475</td>\n",
       "      <td>27.8600</td>\n",
       "      <td>26.8375</td>\n",
       "      <td>what to expect from apple in      beyond its s...</td>\n",
       "    </tr>\n",
       "    <tr>\n",
       "      <th>1</th>\n",
       "      <td>05/01/15</td>\n",
       "      <td>26.5625</td>\n",
       "      <td>256843520.0</td>\n",
       "      <td>27.0725</td>\n",
       "      <td>27.1625</td>\n",
       "      <td>26.3525</td>\n",
       "      <td>sim free iphone      plus reportedly debuting ...</td>\n",
       "    </tr>\n",
       "    <tr>\n",
       "      <th>2</th>\n",
       "      <td>06/01/15</td>\n",
       "      <td>26.5650</td>\n",
       "      <td>262729000.0</td>\n",
       "      <td>26.6350</td>\n",
       "      <td>26.8575</td>\n",
       "      <td>26.1575</td>\n",
       "      <td>technology transforming cars into  phones on w...</td>\n",
       "    </tr>\n",
       "    <tr>\n",
       "      <th>3</th>\n",
       "      <td>07/01/15</td>\n",
       "      <td>26.9375</td>\n",
       "      <td>159933400.0</td>\n",
       "      <td>26.8000</td>\n",
       "      <td>27.0500</td>\n",
       "      <td>26.6737</td>\n",
       "      <td>apple issues fourth developer beta of os x    ...</td>\n",
       "    </tr>\n",
       "    <tr>\n",
       "      <th>4</th>\n",
       "      <td>08/01/15</td>\n",
       "      <td>27.9725</td>\n",
       "      <td>236675040.0</td>\n",
       "      <td>27.3075</td>\n",
       "      <td>28.0375</td>\n",
       "      <td>27.1750</td>\n",
       "      <td>apple company recalls      shipments after lin...</td>\n",
       "    </tr>\n",
       "  </tbody>\n",
       "</table>\n",
       "</div>"
      ],
      "text/plain": [
       "       Date    Close       Volume     Open     High      Low  \\\n",
       "0  02/01/15  27.3325  212575080.0  27.8475  27.8600  26.8375   \n",
       "1  05/01/15  26.5625  256843520.0  27.0725  27.1625  26.3525   \n",
       "2  06/01/15  26.5650  262729000.0  26.6350  26.8575  26.1575   \n",
       "3  07/01/15  26.9375  159933400.0  26.8000  27.0500  26.6737   \n",
       "4  08/01/15  27.9725  236675040.0  27.3075  28.0375  27.1750   \n",
       "\n",
       "                                     Headlines Title  \n",
       "0  what to expect from apple in      beyond its s...  \n",
       "1  sim free iphone      plus reportedly debuting ...  \n",
       "2  technology transforming cars into  phones on w...  \n",
       "3  apple issues fourth developer beta of os x    ...  \n",
       "4  apple company recalls      shipments after lin...  "
      ]
     },
     "execution_count": 18,
     "metadata": {},
     "output_type": "execute_result"
    }
   ],
   "source": [
    "for index in ['Headlines Title']:\n",
    "    df[index]=df[index].str.lower()\n",
    "df.head()"
   ]
  },
  {
   "cell_type": "markdown",
   "metadata": {},
   "source": [
    "### Sentimental Analysis"
   ]
  },
  {
   "cell_type": "code",
   "execution_count": 19,
   "metadata": {},
   "outputs": [
    {
     "data": {
      "text/html": [
       "<div>\n",
       "<style scoped>\n",
       "    .dataframe tbody tr th:only-of-type {\n",
       "        vertical-align: middle;\n",
       "    }\n",
       "\n",
       "    .dataframe tbody tr th {\n",
       "        vertical-align: top;\n",
       "    }\n",
       "\n",
       "    .dataframe thead th {\n",
       "        text-align: right;\n",
       "    }\n",
       "</style>\n",
       "<table border=\"1\" class=\"dataframe\">\n",
       "  <thead>\n",
       "    <tr style=\"text-align: right;\">\n",
       "      <th></th>\n",
       "      <th>Date</th>\n",
       "      <th>Close</th>\n",
       "      <th>Volume</th>\n",
       "      <th>Open</th>\n",
       "      <th>High</th>\n",
       "      <th>Low</th>\n",
       "      <th>Headlines Title</th>\n",
       "      <th>compound</th>\n",
       "      <th>negative</th>\n",
       "      <th>neutral</th>\n",
       "      <th>positive</th>\n",
       "    </tr>\n",
       "  </thead>\n",
       "  <tbody>\n",
       "    <tr>\n",
       "      <th>0</th>\n",
       "      <td>02/01/15</td>\n",
       "      <td>27.3325</td>\n",
       "      <td>212575080.0</td>\n",
       "      <td>27.8475</td>\n",
       "      <td>27.8600</td>\n",
       "      <td>26.8375</td>\n",
       "      <td>what to expect from apple in      beyond its s...</td>\n",
       "      <td>0.9875</td>\n",
       "      <td>0.041</td>\n",
       "      <td>0.849</td>\n",
       "      <td>0.110</td>\n",
       "    </tr>\n",
       "    <tr>\n",
       "      <th>1</th>\n",
       "      <td>05/01/15</td>\n",
       "      <td>26.5625</td>\n",
       "      <td>256843520.0</td>\n",
       "      <td>27.0725</td>\n",
       "      <td>27.1625</td>\n",
       "      <td>26.3525</td>\n",
       "      <td>sim free iphone      plus reportedly debuting ...</td>\n",
       "      <td>0.9979</td>\n",
       "      <td>0.033</td>\n",
       "      <td>0.807</td>\n",
       "      <td>0.159</td>\n",
       "    </tr>\n",
       "    <tr>\n",
       "      <th>2</th>\n",
       "      <td>06/01/15</td>\n",
       "      <td>26.5650</td>\n",
       "      <td>262729000.0</td>\n",
       "      <td>26.6350</td>\n",
       "      <td>26.8575</td>\n",
       "      <td>26.1575</td>\n",
       "      <td>technology transforming cars into  phones on w...</td>\n",
       "      <td>0.8779</td>\n",
       "      <td>0.049</td>\n",
       "      <td>0.883</td>\n",
       "      <td>0.068</td>\n",
       "    </tr>\n",
       "    <tr>\n",
       "      <th>3</th>\n",
       "      <td>07/01/15</td>\n",
       "      <td>26.9375</td>\n",
       "      <td>159933400.0</td>\n",
       "      <td>26.8000</td>\n",
       "      <td>27.0500</td>\n",
       "      <td>26.6737</td>\n",
       "      <td>apple issues fourth developer beta of os x    ...</td>\n",
       "      <td>-0.8225</td>\n",
       "      <td>0.076</td>\n",
       "      <td>0.862</td>\n",
       "      <td>0.062</td>\n",
       "    </tr>\n",
       "    <tr>\n",
       "      <th>4</th>\n",
       "      <td>08/01/15</td>\n",
       "      <td>27.9725</td>\n",
       "      <td>236675040.0</td>\n",
       "      <td>27.3075</td>\n",
       "      <td>28.0375</td>\n",
       "      <td>27.1750</td>\n",
       "      <td>apple company recalls      shipments after lin...</td>\n",
       "      <td>0.9973</td>\n",
       "      <td>0.039</td>\n",
       "      <td>0.828</td>\n",
       "      <td>0.132</td>\n",
       "    </tr>\n",
       "  </tbody>\n",
       "</table>\n",
       "</div>"
      ],
      "text/plain": [
       "       Date    Close       Volume     Open     High      Low  \\\n",
       "0  02/01/15  27.3325  212575080.0  27.8475  27.8600  26.8375   \n",
       "1  05/01/15  26.5625  256843520.0  27.0725  27.1625  26.3525   \n",
       "2  06/01/15  26.5650  262729000.0  26.6350  26.8575  26.1575   \n",
       "3  07/01/15  26.9375  159933400.0  26.8000  27.0500  26.6737   \n",
       "4  08/01/15  27.9725  236675040.0  27.3075  28.0375  27.1750   \n",
       "\n",
       "                                     Headlines Title  compound  negative  \\\n",
       "0  what to expect from apple in      beyond its s...    0.9875     0.041   \n",
       "1  sim free iphone      plus reportedly debuting ...    0.9979     0.033   \n",
       "2  technology transforming cars into  phones on w...    0.8779     0.049   \n",
       "3  apple issues fourth developer beta of os x    ...   -0.8225     0.076   \n",
       "4  apple company recalls      shipments after lin...    0.9973     0.039   \n",
       "\n",
       "   neutral  positive  \n",
       "0    0.849     0.110  \n",
       "1    0.807     0.159  \n",
       "2    0.883     0.068  \n",
       "3    0.862     0.062  \n",
       "4    0.828     0.132  "
      ]
     },
     "execution_count": 19,
     "metadata": {},
     "output_type": "execute_result"
    }
   ],
   "source": [
    "# importing requires libraries to analyze the sentiments\n",
    "from nltk.sentiment.vader import SentimentIntensityAnalyzer\n",
    "import unicodedata\n",
    "\n",
    "\n",
    "# instantiating the Sentiment Analyzer\n",
    "sid = SentimentIntensityAnalyzer()\n",
    "\n",
    "# calculating sentiment scores\n",
    "df['compound'] = df['Headlines Title'].apply(lambda x: sid.polarity_scores(x)['compound'])\n",
    "df['negative'] = df['Headlines Title'].apply(lambda x: sid.polarity_scores(x)['neg'])\n",
    "df['neutral'] = df['Headlines Title'].apply(lambda x: sid.polarity_scores(x)['neu'])\n",
    "df['positive'] = df['Headlines Title'].apply(lambda x: sid.polarity_scores(x)['pos'])\n",
    "\n",
    "# displaying the data\n",
    "df.head()"
   ]
  },
  {
   "cell_type": "code",
   "execution_count": 20,
   "metadata": {},
   "outputs": [],
   "source": [
    "from textblob import TextBlob\n",
    "polarity = []\n",
    "subjectivity = []\n",
    "for idx, row in df.iterrows():\n",
    "  polarity.append(TextBlob(row['Headlines Title']).sentiment[0])\n",
    "  subjectivity.append(TextBlob(row['Headlines Title']).sentiment[1])"
   ]
  },
  {
   "cell_type": "code",
   "execution_count": 21,
   "metadata": {},
   "outputs": [
    {
     "data": {
      "text/html": [
       "<div>\n",
       "<style scoped>\n",
       "    .dataframe tbody tr th:only-of-type {\n",
       "        vertical-align: middle;\n",
       "    }\n",
       "\n",
       "    .dataframe tbody tr th {\n",
       "        vertical-align: top;\n",
       "    }\n",
       "\n",
       "    .dataframe thead th {\n",
       "        text-align: right;\n",
       "    }\n",
       "</style>\n",
       "<table border=\"1\" class=\"dataframe\">\n",
       "  <thead>\n",
       "    <tr style=\"text-align: right;\">\n",
       "      <th></th>\n",
       "      <th>Date</th>\n",
       "      <th>Close</th>\n",
       "      <th>Volume</th>\n",
       "      <th>Open</th>\n",
       "      <th>High</th>\n",
       "      <th>Low</th>\n",
       "      <th>Headlines Title</th>\n",
       "      <th>compound</th>\n",
       "      <th>negative</th>\n",
       "      <th>neutral</th>\n",
       "      <th>positive</th>\n",
       "      <th>polarity</th>\n",
       "      <th>subjectivity</th>\n",
       "    </tr>\n",
       "  </thead>\n",
       "  <tbody>\n",
       "    <tr>\n",
       "      <th>0</th>\n",
       "      <td>02/01/15</td>\n",
       "      <td>27.3325</td>\n",
       "      <td>212575080.0</td>\n",
       "      <td>27.8475</td>\n",
       "      <td>27.8600</td>\n",
       "      <td>26.8375</td>\n",
       "      <td>what to expect from apple in      beyond its s...</td>\n",
       "      <td>0.9875</td>\n",
       "      <td>0.041</td>\n",
       "      <td>0.849</td>\n",
       "      <td>0.110</td>\n",
       "      <td>0.140552</td>\n",
       "      <td>0.527698</td>\n",
       "    </tr>\n",
       "    <tr>\n",
       "      <th>1</th>\n",
       "      <td>05/01/15</td>\n",
       "      <td>26.5625</td>\n",
       "      <td>256843520.0</td>\n",
       "      <td>27.0725</td>\n",
       "      <td>27.1625</td>\n",
       "      <td>26.3525</td>\n",
       "      <td>sim free iphone      plus reportedly debuting ...</td>\n",
       "      <td>0.9979</td>\n",
       "      <td>0.033</td>\n",
       "      <td>0.807</td>\n",
       "      <td>0.159</td>\n",
       "      <td>0.129695</td>\n",
       "      <td>0.447602</td>\n",
       "    </tr>\n",
       "    <tr>\n",
       "      <th>2</th>\n",
       "      <td>06/01/15</td>\n",
       "      <td>26.5650</td>\n",
       "      <td>262729000.0</td>\n",
       "      <td>26.6350</td>\n",
       "      <td>26.8575</td>\n",
       "      <td>26.1575</td>\n",
       "      <td>technology transforming cars into  phones on w...</td>\n",
       "      <td>0.8779</td>\n",
       "      <td>0.049</td>\n",
       "      <td>0.883</td>\n",
       "      <td>0.068</td>\n",
       "      <td>0.108243</td>\n",
       "      <td>0.347794</td>\n",
       "    </tr>\n",
       "    <tr>\n",
       "      <th>3</th>\n",
       "      <td>07/01/15</td>\n",
       "      <td>26.9375</td>\n",
       "      <td>159933400.0</td>\n",
       "      <td>26.8000</td>\n",
       "      <td>27.0500</td>\n",
       "      <td>26.6737</td>\n",
       "      <td>apple issues fourth developer beta of os x    ...</td>\n",
       "      <td>-0.8225</td>\n",
       "      <td>0.076</td>\n",
       "      <td>0.862</td>\n",
       "      <td>0.062</td>\n",
       "      <td>0.125090</td>\n",
       "      <td>0.410056</td>\n",
       "    </tr>\n",
       "    <tr>\n",
       "      <th>4</th>\n",
       "      <td>08/01/15</td>\n",
       "      <td>27.9725</td>\n",
       "      <td>236675040.0</td>\n",
       "      <td>27.3075</td>\n",
       "      <td>28.0375</td>\n",
       "      <td>27.1750</td>\n",
       "      <td>apple company recalls      shipments after lin...</td>\n",
       "      <td>0.9973</td>\n",
       "      <td>0.039</td>\n",
       "      <td>0.828</td>\n",
       "      <td>0.132</td>\n",
       "      <td>0.136965</td>\n",
       "      <td>0.400757</td>\n",
       "    </tr>\n",
       "  </tbody>\n",
       "</table>\n",
       "</div>"
      ],
      "text/plain": [
       "       Date    Close       Volume     Open     High      Low  \\\n",
       "0  02/01/15  27.3325  212575080.0  27.8475  27.8600  26.8375   \n",
       "1  05/01/15  26.5625  256843520.0  27.0725  27.1625  26.3525   \n",
       "2  06/01/15  26.5650  262729000.0  26.6350  26.8575  26.1575   \n",
       "3  07/01/15  26.9375  159933400.0  26.8000  27.0500  26.6737   \n",
       "4  08/01/15  27.9725  236675040.0  27.3075  28.0375  27.1750   \n",
       "\n",
       "                                     Headlines Title  compound  negative  \\\n",
       "0  what to expect from apple in      beyond its s...    0.9875     0.041   \n",
       "1  sim free iphone      plus reportedly debuting ...    0.9979     0.033   \n",
       "2  technology transforming cars into  phones on w...    0.8779     0.049   \n",
       "3  apple issues fourth developer beta of os x    ...   -0.8225     0.076   \n",
       "4  apple company recalls      shipments after lin...    0.9973     0.039   \n",
       "\n",
       "   neutral  positive  polarity  subjectivity  \n",
       "0    0.849     0.110  0.140552      0.527698  \n",
       "1    0.807     0.159  0.129695      0.447602  \n",
       "2    0.883     0.068  0.108243      0.347794  \n",
       "3    0.862     0.062  0.125090      0.410056  \n",
       "4    0.828     0.132  0.136965      0.400757  "
      ]
     },
     "execution_count": 21,
     "metadata": {},
     "output_type": "execute_result"
    }
   ],
   "source": [
    "df['polarity'] = polarity\n",
    "df['subjectivity'] = subjectivity\n",
    "df.head()"
   ]
  },
  {
   "cell_type": "markdown",
   "metadata": {},
   "source": [
    "### Finilazing the Data"
   ]
  },
  {
   "cell_type": "code",
   "execution_count": 22,
   "metadata": {},
   "outputs": [
    {
     "data": {
      "text/html": [
       "<div>\n",
       "<style scoped>\n",
       "    .dataframe tbody tr th:only-of-type {\n",
       "        vertical-align: middle;\n",
       "    }\n",
       "\n",
       "    .dataframe tbody tr th {\n",
       "        vertical-align: top;\n",
       "    }\n",
       "\n",
       "    .dataframe thead th {\n",
       "        text-align: right;\n",
       "    }\n",
       "</style>\n",
       "<table border=\"1\" class=\"dataframe\">\n",
       "  <thead>\n",
       "    <tr style=\"text-align: right;\">\n",
       "      <th></th>\n",
       "      <th>Date</th>\n",
       "      <th>Close</th>\n",
       "      <th>Volume</th>\n",
       "      <th>Open</th>\n",
       "      <th>High</th>\n",
       "      <th>Low</th>\n",
       "      <th>compound</th>\n",
       "      <th>negative</th>\n",
       "      <th>neutral</th>\n",
       "      <th>positive</th>\n",
       "      <th>subjectivity</th>\n",
       "      <th>polarity</th>\n",
       "    </tr>\n",
       "  </thead>\n",
       "  <tbody>\n",
       "    <tr>\n",
       "      <th>0</th>\n",
       "      <td>02/01/15</td>\n",
       "      <td>27.3325</td>\n",
       "      <td>212575080.0</td>\n",
       "      <td>27.8475</td>\n",
       "      <td>27.8600</td>\n",
       "      <td>26.8375</td>\n",
       "      <td>0.9875</td>\n",
       "      <td>0.041</td>\n",
       "      <td>0.849</td>\n",
       "      <td>0.110</td>\n",
       "      <td>0.527698</td>\n",
       "      <td>0.140552</td>\n",
       "    </tr>\n",
       "    <tr>\n",
       "      <th>1</th>\n",
       "      <td>05/01/15</td>\n",
       "      <td>26.5625</td>\n",
       "      <td>256843520.0</td>\n",
       "      <td>27.0725</td>\n",
       "      <td>27.1625</td>\n",
       "      <td>26.3525</td>\n",
       "      <td>0.9979</td>\n",
       "      <td>0.033</td>\n",
       "      <td>0.807</td>\n",
       "      <td>0.159</td>\n",
       "      <td>0.447602</td>\n",
       "      <td>0.129695</td>\n",
       "    </tr>\n",
       "    <tr>\n",
       "      <th>2</th>\n",
       "      <td>06/01/15</td>\n",
       "      <td>26.5650</td>\n",
       "      <td>262729000.0</td>\n",
       "      <td>26.6350</td>\n",
       "      <td>26.8575</td>\n",
       "      <td>26.1575</td>\n",
       "      <td>0.8779</td>\n",
       "      <td>0.049</td>\n",
       "      <td>0.883</td>\n",
       "      <td>0.068</td>\n",
       "      <td>0.347794</td>\n",
       "      <td>0.108243</td>\n",
       "    </tr>\n",
       "    <tr>\n",
       "      <th>3</th>\n",
       "      <td>07/01/15</td>\n",
       "      <td>26.9375</td>\n",
       "      <td>159933400.0</td>\n",
       "      <td>26.8000</td>\n",
       "      <td>27.0500</td>\n",
       "      <td>26.6737</td>\n",
       "      <td>-0.8225</td>\n",
       "      <td>0.076</td>\n",
       "      <td>0.862</td>\n",
       "      <td>0.062</td>\n",
       "      <td>0.410056</td>\n",
       "      <td>0.125090</td>\n",
       "    </tr>\n",
       "    <tr>\n",
       "      <th>4</th>\n",
       "      <td>08/01/15</td>\n",
       "      <td>27.9725</td>\n",
       "      <td>236675040.0</td>\n",
       "      <td>27.3075</td>\n",
       "      <td>28.0375</td>\n",
       "      <td>27.1750</td>\n",
       "      <td>0.9973</td>\n",
       "      <td>0.039</td>\n",
       "      <td>0.828</td>\n",
       "      <td>0.132</td>\n",
       "      <td>0.400757</td>\n",
       "      <td>0.136965</td>\n",
       "    </tr>\n",
       "  </tbody>\n",
       "</table>\n",
       "</div>"
      ],
      "text/plain": [
       "       Date    Close       Volume     Open     High      Low  compound  \\\n",
       "0  02/01/15  27.3325  212575080.0  27.8475  27.8600  26.8375    0.9875   \n",
       "1  05/01/15  26.5625  256843520.0  27.0725  27.1625  26.3525    0.9979   \n",
       "2  06/01/15  26.5650  262729000.0  26.6350  26.8575  26.1575    0.8779   \n",
       "3  07/01/15  26.9375  159933400.0  26.8000  27.0500  26.6737   -0.8225   \n",
       "4  08/01/15  27.9725  236675040.0  27.3075  28.0375  27.1750    0.9973   \n",
       "\n",
       "   negative  neutral  positive  subjectivity  polarity  \n",
       "0     0.041    0.849     0.110      0.527698  0.140552  \n",
       "1     0.033    0.807     0.159      0.447602  0.129695  \n",
       "2     0.049    0.883     0.068      0.347794  0.108243  \n",
       "3     0.076    0.862     0.062      0.410056  0.125090  \n",
       "4     0.039    0.828     0.132      0.400757  0.136965  "
      ]
     },
     "execution_count": 22,
     "metadata": {},
     "output_type": "execute_result"
    }
   ],
   "source": [
    "# dropping the 'Headlines Title' which is not required\n",
    "df.drop(['Headlines Title'], inplace=True, axis=1)\n",
    "\n",
    "# rearranging the columns of the whole stock_data\n",
    "df = df[['Date','Close','Volume','Open', 'High', 'Low', 'compound', 'negative', 'neutral', 'positive','subjectivity','polarity',]]\n",
    "\n",
    "# displaying the final data\n",
    "df.head()"
   ]
  },
  {
   "cell_type": "code",
   "execution_count": 23,
   "metadata": {},
   "outputs": [
    {
     "data": {
      "text/html": [
       "<div>\n",
       "<style scoped>\n",
       "    .dataframe tbody tr th:only-of-type {\n",
       "        vertical-align: middle;\n",
       "    }\n",
       "\n",
       "    .dataframe tbody tr th {\n",
       "        vertical-align: top;\n",
       "    }\n",
       "\n",
       "    .dataframe thead th {\n",
       "        text-align: right;\n",
       "    }\n",
       "</style>\n",
       "<table border=\"1\" class=\"dataframe\">\n",
       "  <thead>\n",
       "    <tr style=\"text-align: right;\">\n",
       "      <th></th>\n",
       "      <th>Date</th>\n",
       "      <th>Close</th>\n",
       "      <th>Volume</th>\n",
       "      <th>Open</th>\n",
       "      <th>High</th>\n",
       "      <th>Low</th>\n",
       "      <th>compound</th>\n",
       "      <th>negative</th>\n",
       "      <th>neutral</th>\n",
       "      <th>positive</th>\n",
       "      <th>subjectivity</th>\n",
       "      <th>polarity</th>\n",
       "    </tr>\n",
       "  </thead>\n",
       "  <tbody>\n",
       "    <tr>\n",
       "      <th>1615</th>\n",
       "      <td>03/06/21</td>\n",
       "      <td>123.54</td>\n",
       "      <td>76229170.0</td>\n",
       "      <td>124.68</td>\n",
       "      <td>124.85</td>\n",
       "      <td>123.1300</td>\n",
       "      <td>0.9945</td>\n",
       "      <td>0.042</td>\n",
       "      <td>0.868</td>\n",
       "      <td>0.090</td>\n",
       "      <td>0.337818</td>\n",
       "      <td>0.116462</td>\n",
       "    </tr>\n",
       "    <tr>\n",
       "      <th>1616</th>\n",
       "      <td>04/06/21</td>\n",
       "      <td>125.89</td>\n",
       "      <td>75169340.0</td>\n",
       "      <td>124.07</td>\n",
       "      <td>126.16</td>\n",
       "      <td>123.8500</td>\n",
       "      <td>0.9939</td>\n",
       "      <td>0.024</td>\n",
       "      <td>0.902</td>\n",
       "      <td>0.074</td>\n",
       "      <td>0.407989</td>\n",
       "      <td>0.134752</td>\n",
       "    </tr>\n",
       "    <tr>\n",
       "      <th>1617</th>\n",
       "      <td>07/06/21</td>\n",
       "      <td>125.90</td>\n",
       "      <td>71057550.0</td>\n",
       "      <td>126.17</td>\n",
       "      <td>126.32</td>\n",
       "      <td>124.8321</td>\n",
       "      <td>0.9988</td>\n",
       "      <td>0.020</td>\n",
       "      <td>0.869</td>\n",
       "      <td>0.111</td>\n",
       "      <td>0.456795</td>\n",
       "      <td>0.174406</td>\n",
       "    </tr>\n",
       "    <tr>\n",
       "      <th>1618</th>\n",
       "      <td>08/06/21</td>\n",
       "      <td>126.74</td>\n",
       "      <td>74403770.0</td>\n",
       "      <td>126.60</td>\n",
       "      <td>128.46</td>\n",
       "      <td>126.2101</td>\n",
       "      <td>0.9975</td>\n",
       "      <td>0.027</td>\n",
       "      <td>0.873</td>\n",
       "      <td>0.101</td>\n",
       "      <td>0.429049</td>\n",
       "      <td>0.141016</td>\n",
       "    </tr>\n",
       "    <tr>\n",
       "      <th>1619</th>\n",
       "      <td>09/06/21</td>\n",
       "      <td>127.13</td>\n",
       "      <td>56877940.0</td>\n",
       "      <td>127.21</td>\n",
       "      <td>127.75</td>\n",
       "      <td>126.5200</td>\n",
       "      <td>0.9928</td>\n",
       "      <td>0.034</td>\n",
       "      <td>0.889</td>\n",
       "      <td>0.077</td>\n",
       "      <td>0.392757</td>\n",
       "      <td>0.157241</td>\n",
       "    </tr>\n",
       "  </tbody>\n",
       "</table>\n",
       "</div>"
      ],
      "text/plain": [
       "          Date   Close      Volume    Open    High       Low  compound  \\\n",
       "1615  03/06/21  123.54  76229170.0  124.68  124.85  123.1300    0.9945   \n",
       "1616  04/06/21  125.89  75169340.0  124.07  126.16  123.8500    0.9939   \n",
       "1617  07/06/21  125.90  71057550.0  126.17  126.32  124.8321    0.9988   \n",
       "1618  08/06/21  126.74  74403770.0  126.60  128.46  126.2101    0.9975   \n",
       "1619  09/06/21  127.13  56877940.0  127.21  127.75  126.5200    0.9928   \n",
       "\n",
       "      negative  neutral  positive  subjectivity  polarity  \n",
       "1615     0.042    0.868     0.090      0.337818  0.116462  \n",
       "1616     0.024    0.902     0.074      0.407989  0.134752  \n",
       "1617     0.020    0.869     0.111      0.456795  0.174406  \n",
       "1618     0.027    0.873     0.101      0.429049  0.141016  \n",
       "1619     0.034    0.889     0.077      0.392757  0.157241  "
      ]
     },
     "execution_count": 23,
     "metadata": {},
     "output_type": "execute_result"
    }
   ],
   "source": [
    "df.tail()"
   ]
  },
  {
   "cell_type": "code",
   "execution_count": 24,
   "metadata": {},
   "outputs": [],
   "source": [
    "# writing the prepared stock_data to disk\n",
    "#df.to_csv('stocks data2.csv')"
   ]
  },
  {
   "cell_type": "markdown",
   "metadata": {},
   "source": [
    "_______________________________________________________________________________________________________________________________"
   ]
  },
  {
   "cell_type": "markdown",
   "metadata": {},
   "source": [
    "# Linear Regression"
   ]
  },
  {
   "cell_type": "markdown",
   "metadata": {},
   "source": [
    "### Import Libraries"
   ]
  },
  {
   "cell_type": "code",
   "execution_count": 25,
   "metadata": {},
   "outputs": [],
   "source": [
    "from scipy import stats\n",
    "from sklearn.model_selection import train_test_split\n",
    "from sklearn.linear_model import LinearRegression\n",
    "from sklearn.preprocessing import LabelEncoder\n",
    "from sklearn.metrics import mean_squared_error\n",
    "import matplotlib.pyplot as plt\n",
    "import math\n",
    "from sklearn.metrics import confusion_matrix,accuracy_score\n",
    "import sklearn.metrics as metrics"
   ]
  },
  {
   "cell_type": "markdown",
   "metadata": {},
   "source": [
    "### Load the Data"
   ]
  },
  {
   "cell_type": "code",
   "execution_count": 26,
   "metadata": {},
   "outputs": [],
   "source": [
    "dfr=pd.read_csv('stocks data2.csv',index_col = 'Date')"
   ]
  },
  {
   "cell_type": "code",
   "execution_count": 27,
   "metadata": {},
   "outputs": [
    {
     "data": {
      "text/html": [
       "<div>\n",
       "<style scoped>\n",
       "    .dataframe tbody tr th:only-of-type {\n",
       "        vertical-align: middle;\n",
       "    }\n",
       "\n",
       "    .dataframe tbody tr th {\n",
       "        vertical-align: top;\n",
       "    }\n",
       "\n",
       "    .dataframe thead th {\n",
       "        text-align: right;\n",
       "    }\n",
       "</style>\n",
       "<table border=\"1\" class=\"dataframe\">\n",
       "  <thead>\n",
       "    <tr style=\"text-align: right;\">\n",
       "      <th></th>\n",
       "      <th>Close</th>\n",
       "      <th>Volume</th>\n",
       "      <th>Open</th>\n",
       "      <th>High</th>\n",
       "      <th>Low</th>\n",
       "      <th>compound</th>\n",
       "      <th>negative</th>\n",
       "      <th>neutral</th>\n",
       "      <th>positive</th>\n",
       "      <th>subjectivity</th>\n",
       "      <th>polarity</th>\n",
       "    </tr>\n",
       "    <tr>\n",
       "      <th>Date</th>\n",
       "      <th></th>\n",
       "      <th></th>\n",
       "      <th></th>\n",
       "      <th></th>\n",
       "      <th></th>\n",
       "      <th></th>\n",
       "      <th></th>\n",
       "      <th></th>\n",
       "      <th></th>\n",
       "      <th></th>\n",
       "      <th></th>\n",
       "    </tr>\n",
       "  </thead>\n",
       "  <tbody>\n",
       "    <tr>\n",
       "      <th>02-01-2015</th>\n",
       "      <td>27.3325</td>\n",
       "      <td>212575080</td>\n",
       "      <td>27.8475</td>\n",
       "      <td>27.8600</td>\n",
       "      <td>26.8375</td>\n",
       "      <td>0.9875</td>\n",
       "      <td>0.041</td>\n",
       "      <td>0.849</td>\n",
       "      <td>0.110</td>\n",
       "      <td>0.527698</td>\n",
       "      <td>0.140552</td>\n",
       "    </tr>\n",
       "    <tr>\n",
       "      <th>05-01-2015</th>\n",
       "      <td>26.5625</td>\n",
       "      <td>256843520</td>\n",
       "      <td>27.0725</td>\n",
       "      <td>27.1625</td>\n",
       "      <td>26.3525</td>\n",
       "      <td>0.9979</td>\n",
       "      <td>0.033</td>\n",
       "      <td>0.807</td>\n",
       "      <td>0.159</td>\n",
       "      <td>0.447602</td>\n",
       "      <td>0.129695</td>\n",
       "    </tr>\n",
       "    <tr>\n",
       "      <th>06-01-2015</th>\n",
       "      <td>26.5650</td>\n",
       "      <td>262729000</td>\n",
       "      <td>26.6350</td>\n",
       "      <td>26.8575</td>\n",
       "      <td>26.1575</td>\n",
       "      <td>0.8779</td>\n",
       "      <td>0.049</td>\n",
       "      <td>0.883</td>\n",
       "      <td>0.068</td>\n",
       "      <td>0.347794</td>\n",
       "      <td>0.108243</td>\n",
       "    </tr>\n",
       "    <tr>\n",
       "      <th>07-01-2015</th>\n",
       "      <td>26.9375</td>\n",
       "      <td>159933400</td>\n",
       "      <td>26.8000</td>\n",
       "      <td>27.0500</td>\n",
       "      <td>26.6737</td>\n",
       "      <td>-0.8225</td>\n",
       "      <td>0.076</td>\n",
       "      <td>0.862</td>\n",
       "      <td>0.062</td>\n",
       "      <td>0.410056</td>\n",
       "      <td>0.125090</td>\n",
       "    </tr>\n",
       "    <tr>\n",
       "      <th>08-01-2015</th>\n",
       "      <td>27.9725</td>\n",
       "      <td>236675040</td>\n",
       "      <td>27.3075</td>\n",
       "      <td>28.0375</td>\n",
       "      <td>27.1750</td>\n",
       "      <td>0.9973</td>\n",
       "      <td>0.039</td>\n",
       "      <td>0.828</td>\n",
       "      <td>0.132</td>\n",
       "      <td>0.400757</td>\n",
       "      <td>0.136965</td>\n",
       "    </tr>\n",
       "  </tbody>\n",
       "</table>\n",
       "</div>"
      ],
      "text/plain": [
       "              Close     Volume     Open     High      Low  compound  negative  \\\n",
       "Date                                                                            \n",
       "02-01-2015  27.3325  212575080  27.8475  27.8600  26.8375    0.9875     0.041   \n",
       "05-01-2015  26.5625  256843520  27.0725  27.1625  26.3525    0.9979     0.033   \n",
       "06-01-2015  26.5650  262729000  26.6350  26.8575  26.1575    0.8779     0.049   \n",
       "07-01-2015  26.9375  159933400  26.8000  27.0500  26.6737   -0.8225     0.076   \n",
       "08-01-2015  27.9725  236675040  27.3075  28.0375  27.1750    0.9973     0.039   \n",
       "\n",
       "            neutral  positive  subjectivity  polarity  \n",
       "Date                                                   \n",
       "02-01-2015    0.849     0.110      0.527698  0.140552  \n",
       "05-01-2015    0.807     0.159      0.447602  0.129695  \n",
       "06-01-2015    0.883     0.068      0.347794  0.108243  \n",
       "07-01-2015    0.862     0.062      0.410056  0.125090  \n",
       "08-01-2015    0.828     0.132      0.400757  0.136965  "
      ]
     },
     "execution_count": 27,
     "metadata": {},
     "output_type": "execute_result"
    }
   ],
   "source": [
    "dfr.head()"
   ]
  },
  {
   "cell_type": "code",
   "execution_count": 28,
   "metadata": {},
   "outputs": [
    {
     "name": "stdout",
     "output_type": "stream",
     "text": [
      "<class 'pandas.core.frame.DataFrame'>\n",
      "Index: 1620 entries, 02-01-2015 to 09-06-2021\n",
      "Data columns (total 11 columns):\n",
      " #   Column        Non-Null Count  Dtype  \n",
      "---  ------        --------------  -----  \n",
      " 0   Close         1620 non-null   float64\n",
      " 1   Volume        1620 non-null   int64  \n",
      " 2   Open          1620 non-null   float64\n",
      " 3   High          1620 non-null   float64\n",
      " 4   Low           1620 non-null   float64\n",
      " 5   compound      1620 non-null   float64\n",
      " 6   negative      1620 non-null   float64\n",
      " 7   neutral       1620 non-null   float64\n",
      " 8   positive      1620 non-null   float64\n",
      " 9   subjectivity  1620 non-null   float64\n",
      " 10  polarity      1620 non-null   float64\n",
      "dtypes: float64(10), int64(1)\n",
      "memory usage: 151.9+ KB\n"
     ]
    }
   ],
   "source": [
    "dfr.info()"
   ]
  },
  {
   "cell_type": "code",
   "execution_count": 29,
   "metadata": {},
   "outputs": [
    {
     "data": {
      "image/png": "[encoded data removed]",
      "text/plain": [
       "<Figure size 1152x432 with 1 Axes>"
      ]
     },
     "metadata": {
      "needs_background": "light"
     },
     "output_type": "display_data"
    }
   ],
   "source": [
    "dfr.Close.plot(figsize=(16,6)) \n",
    "plt.title(\"APPLE CLOSE PRICE\",fontsize=16)\n",
    "plt.xlabel('Date',fontsize=14)\n",
    "plt.ylabel('Close',fontsize=14)\n",
    "plt.show()"
   ]
  },
  {
   "cell_type": "markdown",
   "metadata": {},
   "source": [
    "### Splitting the Data"
   ]
  },
  {
   "cell_type": "code",
   "execution_count": 30,
   "metadata": {},
   "outputs": [],
   "source": [
    "df_X=dfr.loc[:,dfr.columns != 'Close']\n",
    "df_Y=dfr['Close']"
   ]
  },
  {
   "cell_type": "code",
   "execution_count": 31,
   "metadata": {},
   "outputs": [],
   "source": [
    "t=.8 \n",
    "t = int(t*len(dfr)) \n",
    "# Train dataset \n",
    "X_train = df_X[:t] \n",
    "y_train = df_Y[:t]  \n",
    "# Test dataset \n",
    "X_test = df_X[t:] \n",
    "y_test = df_Y[t:]"
   ]
  },
  {
   "cell_type": "code",
   "execution_count": 32,
   "metadata": {},
   "outputs": [
    {
     "name": "stdout",
     "output_type": "stream",
     "text": [
      "               Volume     Open     High      Low  compound  negative  neutral  \\\n",
      "Date                                                                            \n",
      "02-01-2015  212575080  27.8475  27.8600  26.8375    0.9875     0.041    0.849   \n",
      "05-01-2015  256843520  27.0725  27.1625  26.3525    0.9979     0.033    0.807   \n",
      "06-01-2015  262729000  26.6350  26.8575  26.1575    0.8779     0.049    0.883   \n",
      "07-01-2015  159933400  26.8000  27.0500  26.6737   -0.8225     0.076    0.862   \n",
      "08-01-2015  236675040  27.3075  28.0375  27.1750    0.9973     0.039    0.828   \n",
      "\n",
      "            positive  subjectivity  polarity  \n",
      "Date                                          \n",
      "02-01-2015     0.110      0.527698  0.140552  \n",
      "05-01-2015     0.159      0.447602  0.129695  \n",
      "06-01-2015     0.068      0.347794  0.108243  \n",
      "07-01-2015     0.062      0.410056  0.125090  \n",
      "08-01-2015     0.132      0.400757  0.136965  \n",
      "Date\n",
      "02-01-2015    27.3325\n",
      "05-01-2015    26.5625\n",
      "06-01-2015    26.5650\n",
      "07-01-2015    26.9375\n",
      "08-01-2015    27.9725\n",
      "Name: Close, dtype: float64\n"
     ]
    }
   ],
   "source": [
    "print(X_train.head())\n",
    "print(y_train.head())"
   ]
  },
  {
   "cell_type": "code",
   "execution_count": 33,
   "metadata": {},
   "outputs": [
    {
     "data": {
      "text/plain": [
       "(1296, 10)"
      ]
     },
     "execution_count": 33,
     "metadata": {},
     "output_type": "execute_result"
    }
   ],
   "source": [
    "X_train.shape"
   ]
  },
  {
   "cell_type": "code",
   "execution_count": 34,
   "metadata": {},
   "outputs": [
    {
     "data": {
      "text/plain": [
       "(324, 10)"
      ]
     },
     "execution_count": 34,
     "metadata": {},
     "output_type": "execute_result"
    }
   ],
   "source": [
    "X_test.shape"
   ]
  },
  {
   "cell_type": "markdown",
   "metadata": {},
   "source": [
    "### Prediction"
   ]
  },
  {
   "cell_type": "code",
   "execution_count": 35,
   "metadata": {},
   "outputs": [
    {
     "data": {
      "text/plain": [
       "LinearRegression()"
      ]
     },
     "execution_count": 35,
     "metadata": {},
     "output_type": "execute_result"
    }
   ],
   "source": [
    "regressor = LinearRegression()\n",
    "regressor.fit(X_train,y_train)"
   ]
  },
  {
   "cell_type": "code",
   "execution_count": 36,
   "metadata": {},
   "outputs": [
    {
     "name": "stdout",
     "output_type": "stream",
     "text": [
      "[-1.74840610e-10 -5.74306750e-01  8.03381710e-01  7.70747882e-01\n",
      "  7.20540323e-03  6.12662998e+00  5.98531693e+00  6.42789820e+00\n",
      " -7.63073562e-02  6.20336369e-02]\n"
     ]
    }
   ],
   "source": [
    "print(regressor.coef_)"
   ]
  },
  {
   "cell_type": "code",
   "execution_count": 37,
   "metadata": {},
   "outputs": [
    {
     "name": "stdout",
     "output_type": "stream",
     "text": [
      "-5.988545916652903\n"
     ]
    }
   ],
   "source": [
    "print(regressor.intercept_)"
   ]
  },
  {
   "cell_type": "code",
   "execution_count": 38,
   "metadata": {},
   "outputs": [],
   "source": [
    "predicted=regressor.predict(X_test)"
   ]
  },
  {
   "cell_type": "code",
   "execution_count": 39,
   "metadata": {},
   "outputs": [
    {
     "name": "stdout",
     "output_type": "stream",
     "text": [
      "               Volume      Open      High       Low  compound  negative  \\\n",
      "Date                                                                      \n",
      "27-02-2020  320605520   70.2750   71.5000   68.2400   -0.9209     0.089   \n",
      "28-02-2020  426884800   64.3150   69.6025   64.0925    0.8441     0.047   \n",
      "02-03-2020  341397360   70.5700   75.3600   69.4300    0.8747     0.091   \n",
      "03-03-2020  319475400   75.9175   76.0000   71.4500    0.9946     0.065   \n",
      "04-03-2020  219178280   74.1100   75.8500   73.2825    0.9699     0.060   \n",
      "...               ...       ...       ...       ...       ...       ...   \n",
      "03-06-2021   76229170  124.6800  124.8500  123.1300    0.9945     0.042   \n",
      "04-06-2021   75169340  124.0700  126.1600  123.8500    0.9939     0.024   \n",
      "07-06-2021   71057550  126.1700  126.3200  124.8321    0.9988     0.020   \n",
      "08-06-2021   74403770  126.6000  128.4600  126.2101    0.9975     0.027   \n",
      "09-06-2021   56877940  127.2100  127.7500  126.5200    0.9928     0.034   \n",
      "\n",
      "            neutral  positive  subjectivity  polarity  \n",
      "Date                                                   \n",
      "27-02-2020    0.835     0.075      0.404906  0.144260  \n",
      "28-02-2020    0.888     0.065      0.385005 -0.062970  \n",
      "02-03-2020    0.821     0.088      0.358134  0.085581  \n",
      "03-03-2020    0.821     0.115      0.368845  0.082967  \n",
      "04-03-2020    0.847     0.094      0.373890  0.128331  \n",
      "...             ...       ...           ...       ...  \n",
      "03-06-2021    0.868     0.090      0.337818  0.116462  \n",
      "04-06-2021    0.902     0.074      0.407989  0.134752  \n",
      "07-06-2021    0.869     0.111      0.456795  0.174406  \n",
      "08-06-2021    0.873     0.101      0.429049  0.141016  \n",
      "09-06-2021    0.889     0.077      0.392757  0.157241  \n",
      "\n",
      "[324 rows x 10 columns]\n"
     ]
    }
   ],
   "source": [
    "print(X_test)"
   ]
  },
  {
   "cell_type": "code",
   "execution_count": 40,
   "metadata": {},
   "outputs": [
    {
     "data": {
      "text/plain": [
       "(324,)"
      ]
     },
     "execution_count": 40,
     "metadata": {},
     "output_type": "execute_result"
    }
   ],
   "source": [
    "predicted.shape"
   ]
  },
  {
   "cell_type": "code",
   "execution_count": 41,
   "metadata": {},
   "outputs": [],
   "source": [
    "dframe=pd.DataFrame(y_test,predicted)"
   ]
  },
  {
   "cell_type": "code",
   "execution_count": 42,
   "metadata": {},
   "outputs": [],
   "source": [
    "dframe=pd.DataFrame({'Actual Price':y_test,'Predicted Price':predicted})"
   ]
  },
  {
   "cell_type": "code",
   "execution_count": 43,
   "metadata": {},
   "outputs": [
    {
     "name": "stdout",
     "output_type": "stream",
     "text": [
      "Accuracy: 99.82250451112434\n"
     ]
    }
   ],
   "source": [
    "accuracy=regressor.score(X_test,y_test)\n",
    "print('Accuracy:',accuracy*100)"
   ]
  },
  {
   "cell_type": "code",
   "execution_count": 44,
   "metadata": {
    "scrolled": true
   },
   "outputs": [
    {
     "data": {
      "text/html": [
       "<div>\n",
       "<style scoped>\n",
       "    .dataframe tbody tr th:only-of-type {\n",
       "        vertical-align: middle;\n",
       "    }\n",
       "\n",
       "    .dataframe tbody tr th {\n",
       "        vertical-align: top;\n",
       "    }\n",
       "\n",
       "    .dataframe thead th {\n",
       "        text-align: right;\n",
       "    }\n",
       "</style>\n",
       "<table border=\"1\" class=\"dataframe\">\n",
       "  <thead>\n",
       "    <tr style=\"text-align: right;\">\n",
       "      <th></th>\n",
       "      <th>Actual Price</th>\n",
       "      <th>Predicted Price</th>\n",
       "    </tr>\n",
       "    <tr>\n",
       "      <th>Date</th>\n",
       "      <th></th>\n",
       "      <th></th>\n",
       "    </tr>\n",
       "  </thead>\n",
       "  <tbody>\n",
       "    <tr>\n",
       "      <th>27-02-2020</th>\n",
       "      <td>68.3800</td>\n",
       "      <td>69.630138</td>\n",
       "    </tr>\n",
       "    <tr>\n",
       "      <th>28-02-2020</th>\n",
       "      <td>68.3400</td>\n",
       "      <td>68.310336</td>\n",
       "    </tr>\n",
       "    <tr>\n",
       "      <th>02-03-2020</th>\n",
       "      <td>74.7025</td>\n",
       "      <td>73.500215</td>\n",
       "    </tr>\n",
       "    <tr>\n",
       "      <th>03-03-2020</th>\n",
       "      <td>72.3300</td>\n",
       "      <td>72.518162</td>\n",
       "    </tr>\n",
       "    <tr>\n",
       "      <th>04-03-2020</th>\n",
       "      <td>75.6850</td>\n",
       "      <td>74.857896</td>\n",
       "    </tr>\n",
       "  </tbody>\n",
       "</table>\n",
       "</div>"
      ],
      "text/plain": [
       "            Actual Price  Predicted Price\n",
       "Date                                     \n",
       "27-02-2020       68.3800        69.630138\n",
       "28-02-2020       68.3400        68.310336\n",
       "02-03-2020       74.7025        73.500215\n",
       "03-03-2020       72.3300        72.518162\n",
       "04-03-2020       75.6850        74.857896"
      ]
     },
     "execution_count": 44,
     "metadata": {},
     "output_type": "execute_result"
    }
   ],
   "source": [
    "dframe.head()"
   ]
  },
  {
   "cell_type": "code",
   "execution_count": 45,
   "metadata": {},
   "outputs": [
    {
     "data": {
      "text/html": [
       "<div>\n",
       "<style scoped>\n",
       "    .dataframe tbody tr th:only-of-type {\n",
       "        vertical-align: middle;\n",
       "    }\n",
       "\n",
       "    .dataframe tbody tr th {\n",
       "        vertical-align: top;\n",
       "    }\n",
       "\n",
       "    .dataframe thead th {\n",
       "        text-align: right;\n",
       "    }\n",
       "</style>\n",
       "<table border=\"1\" class=\"dataframe\">\n",
       "  <thead>\n",
       "    <tr style=\"text-align: right;\">\n",
       "      <th></th>\n",
       "      <th>Actual Price</th>\n",
       "      <th>Predicted Price</th>\n",
       "    </tr>\n",
       "    <tr>\n",
       "      <th>Date</th>\n",
       "      <th></th>\n",
       "      <th></th>\n",
       "    </tr>\n",
       "  </thead>\n",
       "  <tbody>\n",
       "    <tr>\n",
       "      <th>03-06-2021</th>\n",
       "      <td>123.54</td>\n",
       "      <td>123.617650</td>\n",
       "    </tr>\n",
       "    <tr>\n",
       "      <th>04-06-2021</th>\n",
       "      <td>125.89</td>\n",
       "      <td>125.561682</td>\n",
       "    </tr>\n",
       "    <tr>\n",
       "      <th>07-06-2021</th>\n",
       "      <td>125.90</td>\n",
       "      <td>125.256431</td>\n",
       "    </tr>\n",
       "    <tr>\n",
       "      <th>08-06-2021</th>\n",
       "      <td>126.74</td>\n",
       "      <td>127.792806</td>\n",
       "    </tr>\n",
       "    <tr>\n",
       "      <th>09-06-2021</th>\n",
       "      <td>127.13</td>\n",
       "      <td>127.102121</td>\n",
       "    </tr>\n",
       "  </tbody>\n",
       "</table>\n",
       "</div>"
      ],
      "text/plain": [
       "            Actual Price  Predicted Price\n",
       "Date                                     \n",
       "03-06-2021        123.54       123.617650\n",
       "04-06-2021        125.89       125.561682\n",
       "07-06-2021        125.90       125.256431\n",
       "08-06-2021        126.74       127.792806\n",
       "09-06-2021        127.13       127.102121"
      ]
     },
     "execution_count": 45,
     "metadata": {},
     "output_type": "execute_result"
    }
   ],
   "source": [
    "dframe.tail()"
   ]
  },
  {
   "cell_type": "code",
   "execution_count": 46,
   "metadata": {},
   "outputs": [
    {
     "name": "stdout",
     "output_type": "stream",
     "text": [
      "Mean Absoluter Error: 0.7107710034520885\n"
     ]
    }
   ],
   "source": [
    "print('Mean Absoluter Error:', metrics.mean_absolute_error(y_test,predicted))"
   ]
  },
  {
   "cell_type": "code",
   "execution_count": 47,
   "metadata": {},
   "outputs": [
    {
     "name": "stdout",
     "output_type": "stream",
     "text": [
      "Mean Squared Error: 0.9654660173407767\n"
     ]
    }
   ],
   "source": [
    "error = mean_squared_error(y_test,predicted)\n",
    "print('Mean Squared Error:',error)"
   ]
  },
  {
   "cell_type": "code",
   "execution_count": 48,
   "metadata": {},
   "outputs": [],
   "source": [
    "graph=dframe.head(20)"
   ]
  },
  {
   "cell_type": "code",
   "execution_count": 49,
   "metadata": {},
   "outputs": [
    {
     "data": {
      "text/plain": [
       "<AxesSubplot:xlabel='Date'>"
      ]
     },
     "execution_count": 49,
     "metadata": {},
     "output_type": "execute_result"
    },
    {
     "data": {
      "image/png": "[encoded data removed]",
      "text/plain": [
       "<Figure size 432x288 with 1 Axes>"
      ]
     },
     "metadata": {
      "needs_background": "light"
     },
     "output_type": "display_data"
    }
   ],
   "source": [
    "graph.plot(kind='bar')"
   ]
  },
  {
   "cell_type": "code",
   "execution_count": 50,
   "metadata": {},
   "outputs": [
    {
     "data": {
      "text/plain": [
       "Text(0, 0.5, 'Close')"
      ]
     },
     "execution_count": 50,
     "metadata": {},
     "output_type": "execute_result"
    },
    {
     "data": {
      "image/png": "[encoded data removed]",
      "text/plain": [
       "<Figure size 1152x432 with 1 Axes>"
      ]
     },
     "metadata": {
      "needs_background": "light"
     },
     "output_type": "display_data"
    }
   ],
   "source": [
    "dframe.plot(figsize=(16,6))\n",
    "plt.title(\"APPLE ACTUAL & PREDICTED CLOSE PRICE\",fontsize=16)\n",
    "plt.xlabel('Date',fontsize=14)\n",
    "plt.ylabel('Close',fontsize=14)"
   ]
  },
  {
   "cell_type": "code",
   "execution_count": 51,
   "metadata": {},
   "outputs": [],
   "source": [
    "import pickle \n",
    "pickle_out = open(\"model.pkl\", mode = \"wb\") \n",
    "pickle.dump(regressor, pickle_out) \n",
    "pickle_out.close()"
   ]
  },
  {
   "cell_type": "markdown",
   "metadata": {},
   "source": [
    "_______________________________________________________________________________________________________________________________"
   ]
  }
 ],
 "metadata": {
  "kernelspec": {
   "display_name": "Python 3",
   "language": "python",
   "name": "python3"
  },
  "language_info": {
   "codemirror_mode": {
    "name": "ipython",
    "version": 3
   },
   "file_extension": ".py",
   "mimetype": "text/x-python",
   "name": "python",
   "nbconvert_exporter": "python",
   "pygments_lexer": "ipython3",
   "version": "3.8.3"
  }
 },
 "nbformat": 4,
 "nbformat_minor": 5
}
